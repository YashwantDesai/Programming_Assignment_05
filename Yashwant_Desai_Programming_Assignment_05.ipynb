{
 "cells": [
  {
   "cell_type": "markdown",
   "id": "0c27a818",
   "metadata": {},
   "source": [
    "# Yashwant Desai –  Programming_Assingment 05"
   ]
  },
  {
   "cell_type": "markdown",
   "id": "693799f7",
   "metadata": {},
   "source": [
    "# 1.\tWrite a Python Program to Find LCM?"
   ]
  },
  {
   "cell_type": "code",
   "execution_count": 1,
   "id": "64f595de",
   "metadata": {},
   "outputs": [
    {
     "name": "stdout",
     "output_type": "stream",
     "text": [
      "Enter the count of numbers: 4\n",
      "Enter number 1: 12\n",
      "Enter number 2: 45\n",
      "Enter number 3: 67\n",
      "Enter number 4: 88\n",
      "LCM of the numbers is: 265320\n"
     ]
    }
   ],
   "source": [
    "def greatest_common_divisor(a, b):\n",
    "    while b != 0:\n",
    "        a, b = b, a % b\n",
    "    return a\n",
    "\n",
    "def Least_common_multiple(a, b):\n",
    "    return (a * b) // greatest_common_divisor(a, b)\n",
    "\n",
    "def find_lcm(numbers):\n",
    "    if len(numbers) < 2:\n",
    "        return None\n",
    "\n",
    "    result_lcm = numbers[0]\n",
    "    for num in numbers[1:]:\n",
    "        result_lcm = Least_common_multiple(result_lcm, num)\n",
    "\n",
    "    return result_lcm\n",
    "\n",
    "try:\n",
    "    num_list = []\n",
    "    num_count = int(input(\"Enter the count of numbers: \"))\n",
    "\n",
    "    for i in range(num_count):\n",
    "        num = int(input(f\"Enter number {i + 1}: \"))\n",
    "        num_list.append(num)\n",
    "\n",
    "    lcm_result = find_lcm(num_list)\n",
    "    if lcm_result is not None:\n",
    "        print(f\"LCM of the numbers is: {lcm_result}\")\n",
    "    else:\n",
    "        print(\"Please enter at least two numbers.\")\n",
    "except ValueError:\n",
    "    print(\"Invalid input.\")"
   ]
  },
  {
   "cell_type": "markdown",
   "id": "74a8082e",
   "metadata": {},
   "source": [
    "# 2.\tWrite a Python Program to Find HCF?"
   ]
  },
  {
   "cell_type": "code",
   "execution_count": 2,
   "id": "164536e1",
   "metadata": {},
   "outputs": [
    {
     "name": "stdout",
     "output_type": "stream",
     "text": [
      "Enter the count of numbers: 4\n",
      "Enter number 1: 13\n",
      "Enter number 2: 45\n",
      "Enter number 3: 56\n",
      "Enter number 4: 89\n",
      "HCF of the numbers is: 1\n"
     ]
    }
   ],
   "source": [
    "def greatest_common_divisor(a, b):\n",
    "    while b != 0:\n",
    "        a, b = b, a % b\n",
    "    return a\n",
    "\n",
    "def find_hcf(numbers):\n",
    "    if len(numbers) < 2:\n",
    "        return None\n",
    "\n",
    "    result_hcf = numbers[0]\n",
    "    for numbers in numbers[1:]:\n",
    "        result_hcf = greatest_common_divisor(result_hcf, numbers)\n",
    "\n",
    "    return result_hcf\n",
    "\n",
    "try:\n",
    "    num_list = []\n",
    "    num_count = int(input(\"Enter the count of numbers: \"))\n",
    "\n",
    "    for i in range(num_count):\n",
    "        num = int(input(f\"Enter number {i + 1}: \"))\n",
    "        num_list.append(num)\n",
    "\n",
    "    hcf_result = find_hcf(num_list)\n",
    "    if hcf_result is not None:\n",
    "        print(f\"HCF of the numbers is: {hcf_result}\")\n",
    "    else:\n",
    "        print(\"Please enter at least two numbers.\")\n",
    "except ValueError:\n",
    "    print(\"Invalid input.\")"
   ]
  },
  {
   "cell_type": "markdown",
   "id": "2f27eea1",
   "metadata": {},
   "source": [
    "# 3.Write a Python Program to Convert Decimal to Binary, Octal and Hexadecimal?"
   ]
  },
  {
   "cell_type": "code",
   "execution_count": 3,
   "id": "a0b796dc",
   "metadata": {},
   "outputs": [
    {
     "name": "stdout",
     "output_type": "stream",
     "text": [
      "Enter a decimal number: 288\n",
      "Binary representation: 100100000\n",
      "Octal representation: 440\n",
      "Hexadecimal representation: 120\n"
     ]
    }
   ],
   "source": [
    "def decimal_to_binary(decimal_num):\n",
    "    return bin(decimal_num).replace(\"0b\", \"\")\n",
    "\n",
    "def decimal_to_octal(decimal_num):\n",
    "    return oct(decimal_num).replace(\"0o\", \"\")\n",
    "\n",
    "def decimal_to_hexadecimal(decimal_num):\n",
    "    return hex(decimal_num).replace(\"0x\", \"\").upper()\n",
    "\n",
    "try:\n",
    "    decimal_num = int(input(\"Enter a decimal number: \"))\n",
    "    \n",
    "    binary_num = decimal_to_binary(decimal_num)\n",
    "    print(f\"Binary representation: {binary_num}\")\n",
    "\n",
    "    octal_num = decimal_to_octal(decimal_num)\n",
    "    print(f\"Octal representation: {octal_num}\")\n",
    "\n",
    "    hexadecimal_num = decimal_to_hexadecimal(decimal_num)\n",
    "    print(f\"Hexadecimal representation: {hexadecimal_num}\")\n",
    "except ValueError:\n",
    "    print(\"Invalid input.\")"
   ]
  },
  {
   "cell_type": "markdown",
   "id": "17c561a9",
   "metadata": {},
   "source": [
    "# 4.\tWrite a Python Program To Find ASCII value of a character?"
   ]
  },
  {
   "cell_type": "code",
   "execution_count": 4,
   "id": "6211e408",
   "metadata": {},
   "outputs": [
    {
     "name": "stdout",
     "output_type": "stream",
     "text": [
      "Enter a character: y\n",
      "The ASCII value of 'y' is: 121\n"
     ]
    }
   ],
   "source": [
    "def find_ASCII(word):\n",
    "    return ord(word)\n",
    "try:\n",
    "    user_input = input(\"Enter a character: \")\n",
    "\n",
    "    if len(user_input) == 1:\n",
    "        result = find_ASCII(user_input)\n",
    "        print(f\"The ASCII value of '{user_input}' is: {result}\")\n",
    "    else:\n",
    "        print(\"Please enter only one character.\")\n",
    "except TypeError:\n",
    "    print(\"Invalid input.\")"
   ]
  },
  {
   "cell_type": "markdown",
   "id": "cc634d29",
   "metadata": {},
   "source": [
    "# 5.\tWrite a Python Program to Make a Simple Calculator with 4 basic mathematical operations?"
   ]
  },
  {
   "cell_type": "code",
   "execution_count": 5,
   "id": "49b055dc",
   "metadata": {},
   "outputs": [
    {
     "name": "stdout",
     "output_type": "stream",
     "text": [
      "select operation:\n",
      "1. Add\n",
      "2. Subtract\n",
      "3. Multiplication\n",
      "4. Division\n",
      "Enter the operation number (1/2/3/4): 1\n",
      "Enter the first number: 100\n",
      "Enter the second number: 100\n",
      "Result: 200.0\n"
     ]
    }
   ],
   "source": [
    "def add(a, b):\n",
    "    return a + b\n",
    "\n",
    "def subtract(a, b):\n",
    "    return a - b\n",
    "\n",
    "def multiply(a, b):\n",
    "    return a * b\n",
    "\n",
    "def divide(a, b):\n",
    "    if b == 0:\n",
    "        return \"Cannot divide by zero\"\n",
    "    return a / b\n",
    "\n",
    "try:\n",
    "    print(\"select operation:\")\n",
    "    print(\"1. Add\")\n",
    "    print(\"2. Subtract\")\n",
    "    print(\"3. Multiplication\")\n",
    "    print(\"4. Division\")\n",
    "    \n",
    "    choice = int(input(\"Enter the operation number (1/2/3/4): \"))\n",
    "    num1 = float(input(\"Enter the first number: \"))\n",
    "    num2 = float(input(\"Enter the second number: \"))\n",
    "\n",
    "    if choice == 1:\n",
    "        result = add(num1, num2)\n",
    "    elif choice == 2:\n",
    "        result = subtract(num1, num2)\n",
    "    elif choice == 3:\n",
    "        result = multiply(num1, num2)\n",
    "    elif choice == 4:\n",
    "        result = divide(num1, num2)\n",
    "    else:\n",
    "        print(\"Invalid operation choice.\")\n",
    "        exit()\n",
    "\n",
    "    print(f\"Result: {result}\")\n",
    "except ValueError:\n",
    "    print(\"Invalid input.\")"
   ]
  },
  {
   "cell_type": "markdown",
   "id": "a79c0885",
   "metadata": {},
   "source": [
    "# Done Regards,Yashwant"
   ]
  }
 ],
 "metadata": {
  "kernelspec": {
   "display_name": "Python 3 (ipykernel)",
   "language": "python",
   "name": "python3"
  },
  "language_info": {
   "codemirror_mode": {
    "name": "ipython",
    "version": 3
   },
   "file_extension": ".py",
   "mimetype": "text/x-python",
   "name": "python",
   "nbconvert_exporter": "python",
   "pygments_lexer": "ipython3",
   "version": "3.9.13"
  }
 },
 "nbformat": 4,
 "nbformat_minor": 5
}
